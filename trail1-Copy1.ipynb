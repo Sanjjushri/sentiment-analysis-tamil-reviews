{
 "cells": [
  {
   "cell_type": "code",
   "execution_count": 1,
   "id": "a3d3ade6-bbb6-430f-bc7d-fe747634c0fe",
   "metadata": {},
   "outputs": [
    {
     "data": {
      "text/html": [
       "<div>\n",
       "<style scoped>\n",
       "    .dataframe tbody tr th:only-of-type {\n",
       "        vertical-align: middle;\n",
       "    }\n",
       "\n",
       "    .dataframe tbody tr th {\n",
       "        vertical-align: top;\n",
       "    }\n",
       "\n",
       "    .dataframe thead th {\n",
       "        text-align: right;\n",
       "    }\n",
       "</style>\n",
       "<table border=\"1\" class=\"dataframe\">\n",
       "  <thead>\n",
       "    <tr style=\"text-align: right;\">\n",
       "      <th></th>\n",
       "      <th>reviews</th>\n",
       "      <th>category or product name</th>\n",
       "      <th>updated-by</th>\n",
       "      <th>https://www.youtube.com/watch?v=jWdpwy_lj9Q</th>\n",
       "      <th>sentiment</th>\n",
       "    </tr>\n",
       "  </thead>\n",
       "  <tbody>\n",
       "    <tr>\n",
       "      <th>0</th>\n",
       "      <td>நல்ல மருந்து மனதிற்கு</td>\n",
       "      <td>நகைச்சுவை நானூறு -Book</td>\n",
       "      <td>priya</td>\n",
       "      <td>https://tamil.pratilipi.com/story/%E0%AE%A8%E0...</td>\n",
       "      <td>positive</td>\n",
       "    </tr>\n",
       "    <tr>\n",
       "      <th>1</th>\n",
       "      <td>சிறப்பான அறிமுகம்</td>\n",
       "      <td>நகைச்சுவை நானூறு -Book</td>\n",
       "      <td>priya</td>\n",
       "      <td>https://tamil.pratilipi.com/story/%E0%AE%A8%E0...</td>\n",
       "      <td>positive</td>\n",
       "    </tr>\n",
       "    <tr>\n",
       "      <th>2</th>\n",
       "      <td>அற்புதம்👌👌👌👌👌</td>\n",
       "      <td>நகைச்சுவை நானூறு -Book</td>\n",
       "      <td>priya</td>\n",
       "      <td>https://tamil.pratilipi.com/story/%E0%AE%A8%E0...</td>\n",
       "      <td>positive</td>\n",
       "    </tr>\n",
       "    <tr>\n",
       "      <th>3</th>\n",
       "      <td>அற்புதம்</td>\n",
       "      <td>நகைச்சுவை நானூறு -Book</td>\n",
       "      <td>priya</td>\n",
       "      <td>https://tamil.pratilipi.com/story/%E0%AE%A8%E0...</td>\n",
       "      <td>positive</td>\n",
       "    </tr>\n",
       "    <tr>\n",
       "      <th>4</th>\n",
       "      <td>nandru</td>\n",
       "      <td>நகைச்சுவை நானூறு -Book</td>\n",
       "      <td>priya</td>\n",
       "      <td>https://tamil.pratilipi.com/story/%E0%AE%A8%E0...</td>\n",
       "      <td>positive</td>\n",
       "    </tr>\n",
       "  </tbody>\n",
       "</table>\n",
       "</div>"
      ],
      "text/plain": [
       "                 reviews category or product name updated-by   \\\n",
       "0  நல்ல மருந்து மனதிற்கு   நகைச்சுவை நானூறு -Book       priya   \n",
       "1      சிறப்பான அறிமுகம்   நகைச்சுவை நானூறு -Book       priya   \n",
       "2          அற்புதம்👌👌👌👌👌   நகைச்சுவை நானூறு -Book       priya   \n",
       "3               அற்புதம்   நகைச்சுவை நானூறு -Book       priya   \n",
       "4                 nandru   நகைச்சுவை நானூறு -Book       priya   \n",
       "\n",
       "         https://www.youtube.com/watch?v=jWdpwy_lj9Q sentiment  \n",
       "0  https://tamil.pratilipi.com/story/%E0%AE%A8%E0...  positive  \n",
       "1  https://tamil.pratilipi.com/story/%E0%AE%A8%E0...  positive  \n",
       "2  https://tamil.pratilipi.com/story/%E0%AE%A8%E0...  positive  \n",
       "3  https://tamil.pratilipi.com/story/%E0%AE%A8%E0...  positive  \n",
       "4  https://tamil.pratilipi.com/story/%E0%AE%A8%E0...  positive  "
      ]
     },
     "execution_count": 1,
     "metadata": {},
     "output_type": "execute_result"
    }
   ],
   "source": [
    "import pandas as pd\n",
    "\n",
    "filepath = \"Sentiment-analysis.csv\"\n",
    "\n",
    "df = pd.read_csv(filepath)\n",
    "df.head()"
   ]
  },
  {
   "cell_type": "code",
   "execution_count": 2,
   "id": "5909e91c-2770-48bc-9296-9e7eedcfde99",
   "metadata": {},
   "outputs": [
    {
     "data": {
      "text/plain": [
       "(96, 5)"
      ]
     },
     "execution_count": 2,
     "metadata": {},
     "output_type": "execute_result"
    }
   ],
   "source": [
    "df.shape"
   ]
  },
  {
   "cell_type": "code",
   "execution_count": 2,
   "id": "38e66912-e8a2-4306-afed-8776b5482ab5",
   "metadata": {},
   "outputs": [],
   "source": [
    "from io import StringIO\n",
    "\n",
    "col = ['reviews', 'sentiment']\n",
    "df = df[col]"
   ]
  },
  {
   "cell_type": "code",
   "execution_count": 3,
   "id": "a8948778-6321-4b85-8b65-2d55030ce907",
   "metadata": {},
   "outputs": [
    {
     "data": {
      "text/html": [
       "<div>\n",
       "<style scoped>\n",
       "    .dataframe tbody tr th:only-of-type {\n",
       "        vertical-align: middle;\n",
       "    }\n",
       "\n",
       "    .dataframe tbody tr th {\n",
       "        vertical-align: top;\n",
       "    }\n",
       "\n",
       "    .dataframe thead th {\n",
       "        text-align: right;\n",
       "    }\n",
       "</style>\n",
       "<table border=\"1\" class=\"dataframe\">\n",
       "  <thead>\n",
       "    <tr style=\"text-align: right;\">\n",
       "      <th></th>\n",
       "      <th>reviews</th>\n",
       "      <th>sentiment</th>\n",
       "    </tr>\n",
       "  </thead>\n",
       "  <tbody>\n",
       "    <tr>\n",
       "      <th>0</th>\n",
       "      <td>நல்ல மருந்து மனதிற்கு</td>\n",
       "      <td>positive</td>\n",
       "    </tr>\n",
       "    <tr>\n",
       "      <th>1</th>\n",
       "      <td>சிறப்பான அறிமுகம்</td>\n",
       "      <td>positive</td>\n",
       "    </tr>\n",
       "    <tr>\n",
       "      <th>2</th>\n",
       "      <td>அற்புதம்👌👌👌👌👌</td>\n",
       "      <td>positive</td>\n",
       "    </tr>\n",
       "    <tr>\n",
       "      <th>3</th>\n",
       "      <td>அற்புதம்</td>\n",
       "      <td>positive</td>\n",
       "    </tr>\n",
       "    <tr>\n",
       "      <th>4</th>\n",
       "      <td>nandru</td>\n",
       "      <td>positive</td>\n",
       "    </tr>\n",
       "  </tbody>\n",
       "</table>\n",
       "</div>"
      ],
      "text/plain": [
       "                 reviews sentiment\n",
       "0  நல்ல மருந்து மனதிற்கு  positive\n",
       "1      சிறப்பான அறிமுகம்  positive\n",
       "2          அற்புதம்👌👌👌👌👌  positive\n",
       "3               அற்புதம்  positive\n",
       "4                 nandru  positive"
      ]
     },
     "execution_count": 3,
     "metadata": {},
     "output_type": "execute_result"
    }
   ],
   "source": [
    "df.head()"
   ]
  },
  {
   "cell_type": "code",
   "execution_count": 4,
   "id": "fb72382e-2524-4b95-8e97-da795da519ec",
   "metadata": {},
   "outputs": [
    {
     "data": {
      "text/html": [
       "<div>\n",
       "<style scoped>\n",
       "    .dataframe tbody tr th:only-of-type {\n",
       "        vertical-align: middle;\n",
       "    }\n",
       "\n",
       "    .dataframe tbody tr th {\n",
       "        vertical-align: top;\n",
       "    }\n",
       "\n",
       "    .dataframe thead th {\n",
       "        text-align: right;\n",
       "    }\n",
       "</style>\n",
       "<table border=\"1\" class=\"dataframe\">\n",
       "  <thead>\n",
       "    <tr style=\"text-align: right;\">\n",
       "      <th></th>\n",
       "      <th>reviews</th>\n",
       "      <th>sentiment</th>\n",
       "    </tr>\n",
       "  </thead>\n",
       "  <tbody>\n",
       "    <tr>\n",
       "      <th>0</th>\n",
       "      <td>நல்ல மருந்து மனதிற்கு</td>\n",
       "      <td>positive</td>\n",
       "    </tr>\n",
       "    <tr>\n",
       "      <th>1</th>\n",
       "      <td>சிறப்பான அறிமுகம்</td>\n",
       "      <td>positive</td>\n",
       "    </tr>\n",
       "    <tr>\n",
       "      <th>2</th>\n",
       "      <td>அற்புதம்👌👌👌👌👌</td>\n",
       "      <td>positive</td>\n",
       "    </tr>\n",
       "    <tr>\n",
       "      <th>3</th>\n",
       "      <td>அற்புதம்</td>\n",
       "      <td>positive</td>\n",
       "    </tr>\n",
       "    <tr>\n",
       "      <th>4</th>\n",
       "      <td>nandru</td>\n",
       "      <td>positive</td>\n",
       "    </tr>\n",
       "  </tbody>\n",
       "</table>\n",
       "</div>"
      ],
      "text/plain": [
       "                 reviews sentiment\n",
       "0  நல்ல மருந்து மனதிற்கு  positive\n",
       "1      சிறப்பான அறிமுகம்  positive\n",
       "2          அற்புதம்👌👌👌👌👌  positive\n",
       "3               அற்புதம்  positive\n",
       "4                 nandru  positive"
      ]
     },
     "execution_count": 4,
     "metadata": {},
     "output_type": "execute_result"
    }
   ],
   "source": [
    "df = df[pd.notnull(df['reviews'])]\n",
    "df = df[pd.notnull(df['sentiment'])]\n",
    "df.head()"
   ]
  },
  {
   "cell_type": "code",
   "execution_count": 5,
   "id": "138df104-75d9-4bb9-9ad6-1b88f9a3cc56",
   "metadata": {},
   "outputs": [
    {
     "data": {
      "text/plain": [
       "(32, 2)"
      ]
     },
     "execution_count": 5,
     "metadata": {},
     "output_type": "execute_result"
    }
   ],
   "source": [
    "df.shape"
   ]
  },
  {
   "cell_type": "code",
   "execution_count": 6,
   "id": "99ae3c79-2b38-4bbd-9b41-58a2ab28804b",
   "metadata": {},
   "outputs": [
    {
     "data": {
      "text/plain": [
       "reviews      False\n",
       "sentiment    False\n",
       "dtype: bool"
      ]
     },
     "execution_count": 6,
     "metadata": {},
     "output_type": "execute_result"
    }
   ],
   "source": [
    "\n",
    "df.isnull().any()"
   ]
  },
  {
   "cell_type": "code",
   "execution_count": 8,
   "id": "3d93481f-d979-48fc-aa52-0e1827948029",
   "metadata": {},
   "outputs": [
    {
     "data": {
      "text/plain": [
       "(32, 21)"
      ]
     },
     "execution_count": 8,
     "metadata": {},
     "output_type": "execute_result"
    }
   ],
   "source": [
    "from sklearn.feature_extraction.text import TfidfVectorizer\n",
    "tfidf = TfidfVectorizer(sublinear_tf=True, min_df=5, norm='l2', ngram_range=(1, 2))\n",
    "features = tfidf.fit_transform(df.reviews).toarray()\n",
    "labels = df.sentiment\n",
    "features.shape"
   ]
  },
  {
   "cell_type": "code",
   "execution_count": 9,
   "id": "0cb1d054-0677-4589-8d6e-2344d8382da5",
   "metadata": {},
   "outputs": [],
   "source": [
    "from sklearn.model_selection import train_test_split\n",
    "from sklearn.feature_extraction.text import CountVectorizer\n",
    "from sklearn.feature_extraction.text import TfidfTransformer\n",
    "from sklearn.naive_bayes import MultinomialNB\n",
    "\n",
    "X_train, X_test, y_train, y_test = train_test_split(df['reviews'], df['sentiment'], random_state = 0)\n",
    "count_vect = CountVectorizer()\n",
    "X_train_counts = count_vect.fit_transform(X_train)\n",
    "tfidf_transformer = TfidfTransformer()\n",
    "X_train_tfidf = tfidf_transformer.fit_transform(X_train_counts)\n",
    "clf = MultinomialNB().fit(X_train_tfidf, y_train)"
   ]
  },
  {
   "cell_type": "code",
   "execution_count": 12,
   "id": "a35d157b-8cbc-4fb2-bf8b-b6e2f2e8c72a",
   "metadata": {},
   "outputs": [
    {
     "data": {
      "text/plain": [
       "11    positive\n",
       "47    negative\n",
       "10    positive\n",
       "2     positive\n",
       "16    positive\n",
       "14    positive\n",
       "56    positive\n",
       "51    negative\n",
       "Name: sentiment, dtype: object"
      ]
     },
     "execution_count": 12,
     "metadata": {},
     "output_type": "execute_result"
    }
   ],
   "source": [
    "y_test"
   ]
  },
  {
   "cell_type": "code",
   "execution_count": 19,
   "id": "364c8706-a862-4c4e-8575-737eb655fe55",
   "metadata": {},
   "outputs": [],
   "source": [
    "pred = clf.predict(count_vect.transform(X_test))"
   ]
  },
  {
   "cell_type": "code",
   "execution_count": 20,
   "id": "96c86e36-c338-4aa2-98a6-036369f7f692",
   "metadata": {},
   "outputs": [
    {
     "data": {
      "text/plain": [
       "array([[1, 1],\n",
       "       [0, 6]])"
      ]
     },
     "execution_count": 20,
     "metadata": {},
     "output_type": "execute_result"
    }
   ],
   "source": [
    "from sklearn.metrics import confusion_matrix\n",
    "confusion_matrix(y_test, pred)"
   ]
  },
  {
   "cell_type": "code",
   "execution_count": 27,
   "id": "a26f3d3a-fda2-40a5-8eee-5175c56cda20",
   "metadata": {},
   "outputs": [
    {
     "name": "stdout",
     "output_type": "stream",
     "text": [
      "Accuracy score:  0.875\n"
     ]
    }
   ],
   "source": [
    "from sklearn.metrics import accuracy_score\n",
    "print(\"Accuracy score: \", accuracy_score(y_test, pred))"
   ]
  },
  {
   "cell_type": "code",
   "execution_count": 29,
   "id": "c9047d0e-2655-4ec6-bfcd-fa41a2b112d1",
   "metadata": {},
   "outputs": [
    {
     "name": "stdout",
     "output_type": "stream",
     "text": [
      "              precision    recall  f1-score   support\n",
      "\n",
      "    negative       1.00      0.50      0.67         2\n",
      "    positive       0.86      1.00      0.92         6\n",
      "\n",
      "    accuracy                           0.88         8\n",
      "   macro avg       0.93      0.75      0.79         8\n",
      "weighted avg       0.89      0.88      0.86         8\n",
      "\n"
     ]
    }
   ],
   "source": [
    "from sklearn.metrics import classification_report\n",
    "\n",
    "print(classification_report(y_test, pred))"
   ]
  },
  {
   "cell_type": "code",
   "execution_count": 30,
   "id": "29b8caea-1b74-4a8e-af75-8b316cb2e45e",
   "metadata": {},
   "outputs": [
    {
     "name": "stdout",
     "output_type": "stream",
     "text": [
      "நல்ல மருந்து மனதிற்கு\n",
      "\n",
      "சிறப்பான அறிமுகம்\n",
      "\n",
      "அற்புதம்👌👌👌👌👌\n",
      "\n",
      "அற்புதம்\n",
      "\n",
      "nandru\n",
      "\n",
      "விமர்சனம் முழுமையானதாக இல்லை என்றே தோன்றுகிறது\n",
      "\n",
      "சூப்பரோ சூப்பர்👌👌👌👌👌👍\n",
      "\n",
      "நா.முத்துக்குமார் அவர்கள் வெளியிட்ட முதல் கவிதை புத்தகம். அவரை அறிமுகம் செய்த 'தூர்' என்ற கவிதையும் இப்புத்தகத்தில் தான் உள்ளது. மிகச் சிறிய புத்தகம் தான். எளிய நடையிலேயே கவிதைகள் எழுதப்பட்டுள்ளன.\n",
      "\n",
      "மூட்டை புத்தகம் கிடைத்தால் என்னையே விற்றாலும் விற்றுவிடுவார் என் அப்பா,.. மனதை தொட்ட வரிகள்..\n",
      "\n",
      "நா. முத்துக்குமார் அவர்களின் மூன்றாவது புத்தகம் நான் படிப்பதில். சில வரிகளில் ஓராயிரம் உணர்வுகளை தரக்கூடியவர் இவர். ஒரு கிராமத்து கிரிக்கெட், பள்ளி, டென்த் ஏ காயத்ரி, தூர் இவை அனைத்தும் பிடித்தமான கவிதைகள். ஒவ்வொரு கவிதையின் முடிவிலும் ஒரு இனம் புரியாத நெகிழ்வு ஏற்படுத்த முடியும் என்றால் அது இவரால் மட்டுமே சாத்தியம். பிடித்த வரிகள்  யாரும் மெனக்கெடாமலே வருடந்தோறும் உருவாகிறார்கள் சில அறிவாளிகளும் முட்டாள்களும் !  - பள்ளி  இந்த புத்தகத்தில் கண்ணை மூடிக்கொண்டு எந்தப் பக்கத்தை பிரித்தாலும் நல்ல கவிதைகள் வரும் பட்டாம்பூச்சி விற்பவன் - பல வர்ணங்களில்\n",
      "\n"
     ]
    }
   ],
   "source": [
    "\n",
    "content_list = df['reviews']\n",
    "\n",
    "for content in content_list[:10]:\n",
    "    print(content)\n",
    "    \n",
    "    print()"
   ]
  },
  {
   "cell_type": "code",
   "execution_count": 31,
   "id": "15084399-4a02-4c71-a3dd-d791c1be3dba",
   "metadata": {},
   "outputs": [
    {
     "name": "stdout",
     "output_type": "stream",
     "text": [
      "['positive']\n"
     ]
    }
   ],
   "source": [
    "print(clf.predict(count_vect.transform([\"மோசமான\"])))"
   ]
  },
  {
   "cell_type": "code",
   "execution_count": null,
   "id": "b83019e4-1e6c-4d7b-83e4-553d9320804e",
   "metadata": {},
   "outputs": [],
   "source": []
  }
 ],
 "metadata": {
  "kernelspec": {
   "display_name": "Python 3 (ipykernel)",
   "language": "python",
   "name": "python3"
  },
  "language_info": {
   "codemirror_mode": {
    "name": "ipython",
    "version": 3
   },
   "file_extension": ".py",
   "mimetype": "text/x-python",
   "name": "python",
   "nbconvert_exporter": "python",
   "pygments_lexer": "ipython3",
   "version": "3.8.11"
  }
 },
 "nbformat": 4,
 "nbformat_minor": 5
}
