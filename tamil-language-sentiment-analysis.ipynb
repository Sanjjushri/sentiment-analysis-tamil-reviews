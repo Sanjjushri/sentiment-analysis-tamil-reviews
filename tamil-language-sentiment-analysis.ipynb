{
 "cells": [
  {
   "cell_type": "code",
   "execution_count": 1,
   "id": "a3d3ade6-bbb6-430f-bc7d-fe747634c0fe",
   "metadata": {},
   "outputs": [
    {
     "data": {
      "text/html": [
       "<div>\n",
       "<style scoped>\n",
       "    .dataframe tbody tr th:only-of-type {\n",
       "        vertical-align: middle;\n",
       "    }\n",
       "\n",
       "    .dataframe tbody tr th {\n",
       "        vertical-align: top;\n",
       "    }\n",
       "\n",
       "    .dataframe thead th {\n",
       "        text-align: right;\n",
       "    }\n",
       "</style>\n",
       "<table border=\"1\" class=\"dataframe\">\n",
       "  <thead>\n",
       "    <tr style=\"text-align: right;\">\n",
       "      <th></th>\n",
       "      <th>reviews</th>\n",
       "      <th>category or product name</th>\n",
       "      <th>updated-by</th>\n",
       "      <th>reference link</th>\n",
       "      <th>sentiment</th>\n",
       "    </tr>\n",
       "  </thead>\n",
       "  <tbody>\n",
       "    <tr>\n",
       "      <th>0</th>\n",
       "      <td>இந்த புத்தகம் உண்மையில் அதிக கவலை பிரச்சனை உள்...</td>\n",
       "      <td>Emotional Intelligence (Tamil)</td>\n",
       "      <td>priya</td>\n",
       "      <td>https://www.amazon.in/Emotional-Intelligence-T...</td>\n",
       "      <td>positive</td>\n",
       "    </tr>\n",
       "    <tr>\n",
       "      <th>1</th>\n",
       "      <td>தமிழில் நல்ல புத்தகம். அடிப்படை இதை கற்றுக்கொள...</td>\n",
       "      <td>Emotional Intelligence (Tamil)</td>\n",
       "      <td>priya</td>\n",
       "      <td>https://www.amazon.in/Emotional-Intelligence-T...</td>\n",
       "      <td>negative</td>\n",
       "    </tr>\n",
       "    <tr>\n",
       "      <th>2</th>\n",
       "      <td>சிறப்பான அறிமுகம்</td>\n",
       "      <td>நகைச்சுவை நானூறு</td>\n",
       "      <td>priya</td>\n",
       "      <td>https://tamil.pratilipi.com/story/%E0%AE%A8%E0...</td>\n",
       "      <td>positive</td>\n",
       "    </tr>\n",
       "    <tr>\n",
       "      <th>3</th>\n",
       "      <td>அற்புதம்</td>\n",
       "      <td>நகைச்சுவை நானூறு</td>\n",
       "      <td>priya</td>\n",
       "      <td>https://tamil.pratilipi.com/story/%E0%AE%A8%E0...</td>\n",
       "      <td>positive</td>\n",
       "    </tr>\n",
       "    <tr>\n",
       "      <th>4</th>\n",
       "      <td>அற்புதம்</td>\n",
       "      <td>நகைச்சுவை நானூறு</td>\n",
       "      <td>priya</td>\n",
       "      <td>https://tamil.pratilipi.com/story/%E0%AE%A8%E0...</td>\n",
       "      <td>positive</td>\n",
       "    </tr>\n",
       "  </tbody>\n",
       "</table>\n",
       "</div>"
      ],
      "text/plain": [
       "                                             reviews  \\\n",
       "0  இந்த புத்தகம் உண்மையில் அதிக கவலை பிரச்சனை உள்...   \n",
       "1  தமிழில் நல்ல புத்தகம். அடிப்படை இதை கற்றுக்கொள...   \n",
       "2                                  சிறப்பான அறிமுகம்   \n",
       "3                                           அற்புதம்   \n",
       "4                                           அற்புதம்   \n",
       "\n",
       "         category or product name updated-by   \\\n",
       "0  Emotional Intelligence (Tamil)       priya   \n",
       "1  Emotional Intelligence (Tamil)       priya   \n",
       "2               நகைச்சுவை நானூறு        priya   \n",
       "3               நகைச்சுவை நானூறு        priya   \n",
       "4               நகைச்சுவை நானூறு        priya   \n",
       "\n",
       "                                      reference link sentiment  \n",
       "0  https://www.amazon.in/Emotional-Intelligence-T...  positive  \n",
       "1  https://www.amazon.in/Emotional-Intelligence-T...  negative  \n",
       "2  https://tamil.pratilipi.com/story/%E0%AE%A8%E0...  positive  \n",
       "3  https://tamil.pratilipi.com/story/%E0%AE%A8%E0...  positive  \n",
       "4  https://tamil.pratilipi.com/story/%E0%AE%A8%E0...  positive  "
      ]
     },
     "execution_count": 1,
     "metadata": {},
     "output_type": "execute_result"
    }
   ],
   "source": [
    "import pandas as pd\n",
    "\n",
    "filepath = \"final-Sentiment-analysis.csv\"\n",
    "\n",
    "df = pd.read_csv(filepath)\n",
    "df.head()"
   ]
  },
  {
   "cell_type": "code",
   "execution_count": 2,
   "id": "aa6f0545-a090-41a3-bc7c-eecdc07a8ee7",
   "metadata": {},
   "outputs": [
    {
     "data": {
      "text/plain": [
       "(400, 5)"
      ]
     },
     "execution_count": 2,
     "metadata": {},
     "output_type": "execute_result"
    }
   ],
   "source": [
    "df.shape"
   ]
  },
  {
   "cell_type": "code",
   "execution_count": 3,
   "id": "bf3e4926-229f-4182-b28a-d5a5a780dc28",
   "metadata": {},
   "outputs": [
    {
     "data": {
      "text/plain": [
       "reviews                      1\n",
       "category or product name    75\n",
       "updated-by                   2\n",
       "reference link              75\n",
       "sentiment                    1\n",
       "dtype: int64"
      ]
     },
     "execution_count": 3,
     "metadata": {},
     "output_type": "execute_result"
    }
   ],
   "source": [
    "df.isnull().sum()"
   ]
  },
  {
   "cell_type": "code",
   "execution_count": 4,
   "id": "38e66912-e8a2-4306-afed-8776b5482ab5",
   "metadata": {},
   "outputs": [],
   "source": [
    "from io import StringIO\n",
    "\n",
    "col = ['reviews', 'sentiment']\n",
    "df = df[col]"
   ]
  },
  {
   "cell_type": "code",
   "execution_count": 5,
   "id": "a8948778-6321-4b85-8b65-2d55030ce907",
   "metadata": {},
   "outputs": [
    {
     "data": {
      "text/html": [
       "<div>\n",
       "<style scoped>\n",
       "    .dataframe tbody tr th:only-of-type {\n",
       "        vertical-align: middle;\n",
       "    }\n",
       "\n",
       "    .dataframe tbody tr th {\n",
       "        vertical-align: top;\n",
       "    }\n",
       "\n",
       "    .dataframe thead th {\n",
       "        text-align: right;\n",
       "    }\n",
       "</style>\n",
       "<table border=\"1\" class=\"dataframe\">\n",
       "  <thead>\n",
       "    <tr style=\"text-align: right;\">\n",
       "      <th></th>\n",
       "      <th>reviews</th>\n",
       "      <th>sentiment</th>\n",
       "    </tr>\n",
       "  </thead>\n",
       "  <tbody>\n",
       "    <tr>\n",
       "      <th>0</th>\n",
       "      <td>இந்த புத்தகம் உண்மையில் அதிக கவலை பிரச்சனை உள்...</td>\n",
       "      <td>positive</td>\n",
       "    </tr>\n",
       "    <tr>\n",
       "      <th>1</th>\n",
       "      <td>தமிழில் நல்ல புத்தகம். அடிப்படை இதை கற்றுக்கொள...</td>\n",
       "      <td>negative</td>\n",
       "    </tr>\n",
       "    <tr>\n",
       "      <th>2</th>\n",
       "      <td>சிறப்பான அறிமுகம்</td>\n",
       "      <td>positive</td>\n",
       "    </tr>\n",
       "    <tr>\n",
       "      <th>3</th>\n",
       "      <td>அற்புதம்</td>\n",
       "      <td>positive</td>\n",
       "    </tr>\n",
       "    <tr>\n",
       "      <th>4</th>\n",
       "      <td>அற்புதம்</td>\n",
       "      <td>positive</td>\n",
       "    </tr>\n",
       "  </tbody>\n",
       "</table>\n",
       "</div>"
      ],
      "text/plain": [
       "                                             reviews sentiment\n",
       "0  இந்த புத்தகம் உண்மையில் அதிக கவலை பிரச்சனை உள்...  positive\n",
       "1  தமிழில் நல்ல புத்தகம். அடிப்படை இதை கற்றுக்கொள...  negative\n",
       "2                                  சிறப்பான அறிமுகம்  positive\n",
       "3                                           அற்புதம்  positive\n",
       "4                                           அற்புதம்  positive"
      ]
     },
     "execution_count": 5,
     "metadata": {},
     "output_type": "execute_result"
    }
   ],
   "source": [
    "df.head()"
   ]
  },
  {
   "cell_type": "code",
   "execution_count": 6,
   "id": "fb72382e-2524-4b95-8e97-da795da519ec",
   "metadata": {},
   "outputs": [
    {
     "data": {
      "text/html": [
       "<div>\n",
       "<style scoped>\n",
       "    .dataframe tbody tr th:only-of-type {\n",
       "        vertical-align: middle;\n",
       "    }\n",
       "\n",
       "    .dataframe tbody tr th {\n",
       "        vertical-align: top;\n",
       "    }\n",
       "\n",
       "    .dataframe thead th {\n",
       "        text-align: right;\n",
       "    }\n",
       "</style>\n",
       "<table border=\"1\" class=\"dataframe\">\n",
       "  <thead>\n",
       "    <tr style=\"text-align: right;\">\n",
       "      <th></th>\n",
       "      <th>reviews</th>\n",
       "      <th>sentiment</th>\n",
       "    </tr>\n",
       "  </thead>\n",
       "  <tbody>\n",
       "    <tr>\n",
       "      <th>0</th>\n",
       "      <td>இந்த புத்தகம் உண்மையில் அதிக கவலை பிரச்சனை உள்...</td>\n",
       "      <td>positive</td>\n",
       "    </tr>\n",
       "    <tr>\n",
       "      <th>1</th>\n",
       "      <td>தமிழில் நல்ல புத்தகம். அடிப்படை இதை கற்றுக்கொள...</td>\n",
       "      <td>negative</td>\n",
       "    </tr>\n",
       "    <tr>\n",
       "      <th>2</th>\n",
       "      <td>சிறப்பான அறிமுகம்</td>\n",
       "      <td>positive</td>\n",
       "    </tr>\n",
       "    <tr>\n",
       "      <th>3</th>\n",
       "      <td>அற்புதம்</td>\n",
       "      <td>positive</td>\n",
       "    </tr>\n",
       "    <tr>\n",
       "      <th>4</th>\n",
       "      <td>அற்புதம்</td>\n",
       "      <td>positive</td>\n",
       "    </tr>\n",
       "  </tbody>\n",
       "</table>\n",
       "</div>"
      ],
      "text/plain": [
       "                                             reviews sentiment\n",
       "0  இந்த புத்தகம் உண்மையில் அதிக கவலை பிரச்சனை உள்...  positive\n",
       "1  தமிழில் நல்ல புத்தகம். அடிப்படை இதை கற்றுக்கொள...  negative\n",
       "2                                  சிறப்பான அறிமுகம்  positive\n",
       "3                                           அற்புதம்  positive\n",
       "4                                           அற்புதம்  positive"
      ]
     },
     "execution_count": 6,
     "metadata": {},
     "output_type": "execute_result"
    }
   ],
   "source": [
    "df = df[pd.notnull(df['reviews'])]\n",
    "df = df[pd.notnull(df['sentiment'])]\n",
    "df.head()"
   ]
  },
  {
   "cell_type": "code",
   "execution_count": 7,
   "id": "376e70cc-653f-4176-8573-67fda821b23a",
   "metadata": {},
   "outputs": [],
   "source": [
    "import warnings\n",
    "warnings.filterwarnings(\"ignore\")"
   ]
  },
  {
   "cell_type": "code",
   "execution_count": 8,
   "id": "bcb7ac7a-861c-4531-9b5d-652a20f8d902",
   "metadata": {},
   "outputs": [
    {
     "data": {
      "image/png": "[encoded data removed]",
      "text/plain": [
       "<Figure size 432x288 with 1 Axes>"
      ]
     },
     "metadata": {
      "needs_background": "light"
     },
     "output_type": "display_data"
    }
   ],
   "source": [
    "import seaborn as sns\n",
    "import matplotlib.pyplot as plt\n",
    "sns.countplot(df['sentiment'],label=\"Count\")\n",
    "plt.show()"
   ]
  },
  {
   "cell_type": "code",
   "execution_count": 9,
   "id": "138df104-75d9-4bb9-9ad6-1b88f9a3cc56",
   "metadata": {},
   "outputs": [
    {
     "data": {
      "text/plain": [
       "(398, 2)"
      ]
     },
     "execution_count": 9,
     "metadata": {},
     "output_type": "execute_result"
    }
   ],
   "source": [
    "df.shape"
   ]
  },
  {
   "cell_type": "code",
   "execution_count": 10,
   "id": "99ae3c79-2b38-4bbd-9b41-58a2ab28804b",
   "metadata": {},
   "outputs": [
    {
     "data": {
      "text/plain": [
       "reviews      False\n",
       "sentiment    False\n",
       "dtype: bool"
      ]
     },
     "execution_count": 10,
     "metadata": {},
     "output_type": "execute_result"
    }
   ],
   "source": [
    "df.isnull().any()"
   ]
  },
  {
   "cell_type": "code",
   "execution_count": 11,
   "id": "3d93481f-d979-48fc-aa52-0e1827948029",
   "metadata": {},
   "outputs": [
    {
     "data": {
      "text/plain": [
       "(398, 367)"
      ]
     },
     "execution_count": 11,
     "metadata": {},
     "output_type": "execute_result"
    }
   ],
   "source": [
    "from sklearn.feature_extraction.text import TfidfVectorizer\n",
    "tfidf = TfidfVectorizer(sublinear_tf=True, min_df=5, norm='l2', ngram_range=(1, 2))\n",
    "features = tfidf.fit_transform(df.reviews).toarray()\n",
    "labels = df.sentiment\n",
    "features.shape"
   ]
  },
  {
   "cell_type": "code",
   "execution_count": 24,
   "id": "0cb1d054-0677-4589-8d6e-2344d8382da5",
   "metadata": {},
   "outputs": [],
   "source": [
    "from sklearn.model_selection import train_test_split\n",
    "from sklearn.feature_extraction.text import CountVectorizer\n",
    "from sklearn.feature_extraction.text import TfidfTransformer\n",
    "X_train, X_test, y_train, y_test = train_test_split(df['reviews'], df['sentiment'], random_state = 100, test_size = 0.1)\n",
    "\n",
    "count_vect = CountVectorizer()\n",
    "X_train_counts = count_vect.fit_transform(X_train)\n",
    "tfidf_transformer = TfidfTransformer()\n",
    "X_train_tfidf = tfidf_transformer.fit_transform(X_train_counts)"
   ]
  },
  {
   "cell_type": "code",
   "execution_count": 25,
   "id": "35120222-4943-4324-bfbe-2a763249aa6c",
   "metadata": {},
   "outputs": [
    {
     "name": "stdout",
     "output_type": "stream",
     "text": [
      "Accuracy score:  0.85\n",
      "  \n",
      "              precision    recall  f1-score   support\n",
      "\n",
      "    negative       1.00      0.60      0.75        10\n",
      "     neutral       0.00      0.00      0.00         2\n",
      "    positive       0.82      1.00      0.90        28\n",
      "\n",
      "    accuracy                           0.85        40\n",
      "   macro avg       0.61      0.53      0.55        40\n",
      "weighted avg       0.83      0.85      0.82        40\n",
      "\n"
     ]
    },
    {
     "data": {
      "text/plain": [
       "array([[ 6,  0,  4],\n",
       "       [ 0,  0,  2],\n",
       "       [ 0,  0, 28]])"
      ]
     },
     "execution_count": 25,
     "metadata": {},
     "output_type": "execute_result"
    }
   ],
   "source": [
    "from sklearn.naive_bayes import MultinomialNB\n",
    "clf1 = MultinomialNB().fit(X_train_tfidf, y_train)\n",
    "pred1 = clf1.predict(count_vect.transform(X_test))\n",
    "from sklearn.metrics import accuracy_score\n",
    "print(\"Accuracy score: \", accuracy_score(y_test, pred1))\n",
    "print(\"  \")\n",
    "\n",
    "from sklearn.metrics import classification_report\n",
    "print(classification_report(y_test, pred1))\n",
    "\n",
    "from sklearn.metrics import confusion_matrix\n",
    "confusion_matrix(y_test, pred1)"
   ]
  },
  {
   "cell_type": "code",
   "execution_count": 26,
   "id": "618cffd2-1493-4178-9ab1-aa3575388904",
   "metadata": {},
   "outputs": [
    {
     "name": "stdout",
     "output_type": "stream",
     "text": [
      "Accuracy score:  0.7\n",
      "  \n",
      "              precision    recall  f1-score   support\n",
      "\n",
      "    negative       0.55      0.60      0.57        10\n",
      "     neutral       0.00      0.00      0.00         2\n",
      "    positive       0.81      0.79      0.80        28\n",
      "\n",
      "    accuracy                           0.70        40\n",
      "   macro avg       0.45      0.46      0.46        40\n",
      "weighted avg       0.71      0.70      0.70        40\n",
      "\n"
     ]
    },
    {
     "data": {
      "text/plain": [
       "array([[ 6,  0,  4],\n",
       "       [ 1,  0,  1],\n",
       "       [ 4,  2, 22]])"
      ]
     },
     "execution_count": 26,
     "metadata": {},
     "output_type": "execute_result"
    }
   ],
   "source": [
    "from sklearn.tree import DecisionTreeClassifier\n",
    "mod2 = DecisionTreeClassifier().fit(X_train_tfidf, y_train)\n",
    "pred2 = mod2.predict(count_vect.transform(X_test))\n",
    "print(\"Accuracy score: \", accuracy_score(y_test, pred2))\n",
    "print(\"  \")\n",
    "print(classification_report(y_test, pred2))\n",
    "\n",
    "confusion_matrix(y_test, pred2)"
   ]
  },
  {
   "cell_type": "code",
   "execution_count": 27,
   "id": "1c7385a4-852d-46ac-9514-49cc36282fff",
   "metadata": {},
   "outputs": [
    {
     "name": "stdout",
     "output_type": "stream",
     "text": [
      "Accuracy score:  0.75\n",
      "  \n",
      "              precision    recall  f1-score   support\n",
      "\n",
      "    negative       1.00      0.20      0.33        10\n",
      "     neutral       0.00      0.00      0.00         2\n",
      "    positive       0.74      1.00      0.85        28\n",
      "\n",
      "    accuracy                           0.75        40\n",
      "   macro avg       0.58      0.40      0.39        40\n",
      "weighted avg       0.77      0.75      0.68        40\n",
      "\n"
     ]
    },
    {
     "data": {
      "text/plain": [
       "array([[ 2,  0,  8],\n",
       "       [ 0,  0,  2],\n",
       "       [ 0,  0, 28]])"
      ]
     },
     "execution_count": 27,
     "metadata": {},
     "output_type": "execute_result"
    }
   ],
   "source": [
    "from sklearn import svm\n",
    "mod3 = svm.SVC().fit(X_train_tfidf, y_train)\n",
    "pred3 = mod3.predict(count_vect.transform(X_test))\n",
    "print(\"Accuracy score: \", accuracy_score(y_test, pred3))\n",
    "print(\"  \")\n",
    "print(classification_report(y_test, pred3))\n",
    "\n",
    "confusion_matrix(y_test, pred3)"
   ]
  },
  {
   "cell_type": "code",
   "execution_count": 29,
   "id": "2242c30e-3ae8-4286-9557-eb771e5b19be",
   "metadata": {},
   "outputs": [
    {
     "name": "stdout",
     "output_type": "stream",
     "text": [
      "Accuracy score:  0.875\n",
      "  \n",
      "              precision    recall  f1-score   support\n",
      "\n",
      "    negative       0.89      0.80      0.84        10\n",
      "     neutral       0.00      0.00      0.00         2\n",
      "    positive       0.87      0.96      0.92        28\n",
      "\n",
      "    accuracy                           0.88        40\n",
      "   macro avg       0.59      0.59      0.59        40\n",
      "weighted avg       0.83      0.88      0.85        40\n",
      "\n"
     ]
    },
    {
     "data": {
      "text/plain": [
       "array([[ 8,  0,  2],\n",
       "       [ 0,  0,  2],\n",
       "       [ 1,  0, 27]])"
      ]
     },
     "execution_count": 29,
     "metadata": {},
     "output_type": "execute_result"
    }
   ],
   "source": [
    "from sklearn.linear_model import SGDClassifier\n",
    "clf4 = SGDClassifier(loss=\"hinge\", penalty=\"l2\", max_iter=5)\n",
    "SGDClassifier(max_iter=5)\n",
    "mod4 = clf4.fit(X_train_tfidf, y_train)\n",
    "pred4 = mod4.predict(count_vect.transform(X_test))\n",
    "print(\"Accuracy score: \", accuracy_score(y_test, pred4))\n",
    "print(\"  \")\n",
    "print(classification_report(y_test, pred4))\n",
    "\n",
    "confusion_matrix(y_test, pred4)"
   ]
  },
  {
   "cell_type": "code",
   "execution_count": 30,
   "id": "ee48e757-2118-4ab9-b993-2d9903f00242",
   "metadata": {},
   "outputs": [
    {
     "name": "stdout",
     "output_type": "stream",
     "text": [
      "Accuracy score:  0.725\n",
      "  \n",
      "              precision    recall  f1-score   support\n",
      "\n",
      "    negative       0.58      0.70      0.64        10\n",
      "     neutral       0.00      0.00      0.00         2\n",
      "    positive       0.88      0.79      0.83        28\n",
      "\n",
      "    accuracy                           0.73        40\n",
      "   macro avg       0.49      0.50      0.49        40\n",
      "weighted avg       0.76      0.72      0.74        40\n",
      "\n"
     ]
    },
    {
     "data": {
      "text/plain": [
       "array([[ 7,  0,  3],\n",
       "       [ 2,  0,  0],\n",
       "       [ 3,  3, 22]])"
      ]
     },
     "execution_count": 30,
     "metadata": {},
     "output_type": "execute_result"
    }
   ],
   "source": [
    "from sklearn.neighbors import NearestCentroid\n",
    "clf5 = NearestCentroid()\n",
    "clf5.fit(X_train_tfidf, y_train)\n",
    "pred5 = clf5.predict(count_vect.transform(X_test))\n",
    "print(\"Accuracy score: \", accuracy_score(y_test, pred5))\n",
    "print(\"  \")\n",
    "print(classification_report(y_test, pred5))\n",
    "\n",
    "confusion_matrix(y_test, pred5)"
   ]
  },
  {
   "cell_type": "code",
   "execution_count": 22,
   "id": "72553744-b25b-4078-87b4-cb490d79cb12",
   "metadata": {},
   "outputs": [
    {
     "name": "stdout",
     "output_type": "stream",
     "text": [
      "Accuracy score:  0.875\n",
      "  \n",
      "              precision    recall  f1-score   support\n",
      "\n",
      "    negative       0.80      0.80      0.80        10\n",
      "     neutral       0.00      0.00      0.00         2\n",
      "    positive       0.90      0.96      0.93        28\n",
      "\n",
      "    accuracy                           0.88        40\n",
      "   macro avg       0.57      0.59      0.58        40\n",
      "weighted avg       0.83      0.88      0.85        40\n",
      "\n"
     ]
    },
    {
     "data": {
      "text/plain": [
       "array([[ 8,  0,  2],\n",
       "       [ 1,  0,  1],\n",
       "       [ 1,  0, 27]])"
      ]
     },
     "execution_count": 22,
     "metadata": {},
     "output_type": "execute_result"
    }
   ],
   "source": [
    "from sklearn.linear_model import RidgeClassifier\n",
    "clf6 = RidgeClassifier().fit(X_train_tfidf, y_train)\n",
    "pred6 = clf6.predict(count_vect.transform(X_test))\n",
    "print(\"Accuracy score: \", accuracy_score(y_test, pred6))\n",
    "print(\"  \")\n",
    "print(classification_report(y_test, pred6))\n",
    "\n",
    "confusion_matrix(y_test, pred6)"
   ]
  },
  {
   "cell_type": "code",
   "execution_count": 31,
   "id": "361d79e8-1781-48f7-b4a4-4a2c3facefd3",
   "metadata": {},
   "outputs": [
    {
     "name": "stdout",
     "output_type": "stream",
     "text": [
      "Accuracy score:  0.775\n",
      "  \n",
      "              precision    recall  f1-score   support\n",
      "\n",
      "    negative       0.58      0.70      0.64        10\n",
      "     neutral       0.00      0.00      0.00         2\n",
      "    positive       0.86      0.86      0.86        28\n",
      "\n",
      "    accuracy                           0.78        40\n",
      "   macro avg       0.48      0.52      0.50        40\n",
      "weighted avg       0.75      0.78      0.76        40\n",
      "\n"
     ]
    },
    {
     "data": {
      "text/plain": [
       "array([[ 7,  0,  3],\n",
       "       [ 1,  0,  1],\n",
       "       [ 4,  0, 24]])"
      ]
     },
     "execution_count": 31,
     "metadata": {},
     "output_type": "execute_result"
    }
   ],
   "source": [
    "from sklearn.ensemble import RandomForestClassifier\n",
    "clf7 = RandomForestClassifier(n_estimators=19)\n",
    "clf7 = clf7.fit(X_train_tfidf, y_train)\n",
    "pred7 = clf7.predict(count_vect.transform(X_test))\n",
    "print(\"Accuracy score: \", accuracy_score(y_test, pred7))\n",
    "print(\"  \")\n",
    "print(classification_report(y_test, pred7))\n",
    "\n",
    "confusion_matrix(y_test, pred7)"
   ]
  },
  {
   "cell_type": "code",
   "execution_count": 29,
   "id": "29b8caea-1b74-4a8e-af75-8b316cb2e45e",
   "metadata": {},
   "outputs": [
    {
     "name": "stdout",
     "output_type": "stream",
     "text": [
      "இந்த புத்தகம் உண்மையில் அதிக கவலை பிரச்சனை உள்ளவர்களுக்கு அவசியம். இந்த புத்தகம் நிலைமையை எவ்வாறு நிர்வகிப்பது மற்றும் நாம் எப்படி முடிவுகளை எடுக்க வேண்டும் என்பதை வெளிப்படுத்துகிறது. நீங்கள் அதற்கு செல்லலாம். பணத்திற்கு மதிப்பு.\n",
      "\n",
      "தமிழில் நல்ல புத்தகம். அடிப்படை இதை கற்றுக்கொள்ள முடியும். ஆனால் இந்த புத்தகங்களில் விமர்சன நுண்ணறிவு இல்லை. புதியவர்களாக. முன்முயற்சி எடுத்த ஆசிரியருக்கு நன்றி.\n",
      "\n",
      "சிறப்பான அறிமுகம்\n",
      "\n",
      "அற்புதம்\n",
      "\n",
      "அற்புதம்\n",
      "\n",
      "நன்று\n",
      "\n",
      "கதை முழுமையானதாக இல்லை என்றே தோன்றுகிறது\n",
      "\n",
      "நா.முத்துக்குமார் அவர்கள் வெளியிட்ட முதல் கவிதை புத்தகம். அவரை அறிமுகம் செய்த 'தூர்' என்ற கவிதையும் இப்புத்தகத்தில் தான் உள்ளது. மிகச் சிறிய புத்தகம் தான். எளிய நடையிலேயே கவிதைகள் எழுதப்பட்டுள்ளன.\n",
      "\n",
      "மூட்டை புத்தகம் கிடைத்தால் என்னையே விற்றாலும் விற்றுவிடுவார் என் அப்பா,.. மனதை தொட்ட வரிகள்..\n",
      "\n",
      "நா. முத்துக்குமார் அவர்களின் மூன்றாவது புத்தகம் நான் படிப்பதில். சில வரிகளில் ஓராயிரம் உணர்வுகளை தரக்கூடியவர் இவர். ஒரு கிராமத்து கிரிக்கெட், பள்ளி, டென்த் ஏ காயத்ரி, தூர் இவை அனைத்தும் பிடித்தமான கவிதைகள். ஒவ்வொரு கவிதையின் முடிவிலும் ஒரு இனம் புரியாத நெகிழ்வு ஏற்படுத்த முடியும் என்றால் அது இவரால் மட்டுமே சாத்தியம். பிடித்த வரிகள்  யாரும் மெனக்கெடாமலே வருடந்தோறும் உருவாகிறார்கள் சில அறிவாளிகளும் முட்டாள்களும் !  - பள்ளி  இந்த புத்தகத்தில் கண்ணை மூடிக்கொண்டு எந்தப் பக்கத்தை பிரித்தாலும் நல்ல கவிதைகள் வரும் பட்டாம்பூச்சி விற்பவன் - பல வர்ணங்களில்\n",
      "\n"
     ]
    }
   ],
   "source": [
    "\n",
    "content_list = df['reviews']\n",
    "\n",
    "for content in content_list[:10]:\n",
    "    print(content)\n",
    "    \n",
    "    print()"
   ]
  },
  {
   "cell_type": "code",
   "execution_count": 30,
   "id": "15084399-4a02-4c71-a3dd-d791c1be3dba",
   "metadata": {},
   "outputs": [
    {
     "name": "stdout",
     "output_type": "stream",
     "text": [
      "['negative']\n"
     ]
    }
   ],
   "source": [
    "print(clf.predict(count_vect.transform([\"இல்லை\"])))"
   ]
  }
 ],
 "metadata": {
  "kernelspec": {
   "display_name": "Python 3 (ipykernel)",
   "language": "python",
   "name": "python3"
  },
  "language_info": {
   "codemirror_mode": {
    "name": "ipython",
    "version": 3
   },
   "file_extension": ".py",
   "mimetype": "text/x-python",
   "name": "python",
   "nbconvert_exporter": "python",
   "pygments_lexer": "ipython3",
   "version": "3.8.11"
  }
 },
 "nbformat": 4,
 "nbformat_minor": 5
}
