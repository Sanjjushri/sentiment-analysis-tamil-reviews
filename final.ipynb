{
 "cells": [
  {
   "cell_type": "code",
   "execution_count": 3,
   "id": "a3d3ade6-bbb6-430f-bc7d-fe747634c0fe",
   "metadata": {},
   "outputs": [
    {
     "data": {
      "text/html": [
       "<div>\n",
       "<style scoped>\n",
       "    .dataframe tbody tr th:only-of-type {\n",
       "        vertical-align: middle;\n",
       "    }\n",
       "\n",
       "    .dataframe tbody tr th {\n",
       "        vertical-align: top;\n",
       "    }\n",
       "\n",
       "    .dataframe thead th {\n",
       "        text-align: right;\n",
       "    }\n",
       "</style>\n",
       "<table border=\"1\" class=\"dataframe\">\n",
       "  <thead>\n",
       "    <tr style=\"text-align: right;\">\n",
       "      <th></th>\n",
       "      <th>reviews</th>\n",
       "      <th>category or product name</th>\n",
       "      <th>updated-by</th>\n",
       "      <th>reference link</th>\n",
       "      <th>sentiment</th>\n",
       "    </tr>\n",
       "  </thead>\n",
       "  <tbody>\n",
       "    <tr>\n",
       "      <th>0</th>\n",
       "      <td>நல்ல மருந்து மனதிற்கு</td>\n",
       "      <td>நகைச்சுவை நானூறு</td>\n",
       "      <td>priya</td>\n",
       "      <td>https://tamil.pratilipi.com/story/%E0%AE%A8%E0...</td>\n",
       "      <td>positive</td>\n",
       "    </tr>\n",
       "    <tr>\n",
       "      <th>1</th>\n",
       "      <td>சிறப்பான அறிமுகம்</td>\n",
       "      <td>நகைச்சுவை நானூறு</td>\n",
       "      <td>priya</td>\n",
       "      <td>https://tamil.pratilipi.com/story/%E0%AE%A8%E0...</td>\n",
       "      <td>positive</td>\n",
       "    </tr>\n",
       "    <tr>\n",
       "      <th>2</th>\n",
       "      <td>அற்புதம்</td>\n",
       "      <td>நகைச்சுவை நானூறு</td>\n",
       "      <td>priya</td>\n",
       "      <td>https://tamil.pratilipi.com/story/%E0%AE%A8%E0...</td>\n",
       "      <td>positive</td>\n",
       "    </tr>\n",
       "    <tr>\n",
       "      <th>3</th>\n",
       "      <td>அற்புதம்</td>\n",
       "      <td>நகைச்சுவை நானூறு</td>\n",
       "      <td>priya</td>\n",
       "      <td>https://tamil.pratilipi.com/story/%E0%AE%A8%E0...</td>\n",
       "      <td>positive</td>\n",
       "    </tr>\n",
       "    <tr>\n",
       "      <th>4</th>\n",
       "      <td>நன்று</td>\n",
       "      <td>நகைச்சுவை நானூறு</td>\n",
       "      <td>priya</td>\n",
       "      <td>https://tamil.pratilipi.com/story/%E0%AE%A8%E0...</td>\n",
       "      <td>positive</td>\n",
       "    </tr>\n",
       "  </tbody>\n",
       "</table>\n",
       "</div>"
      ],
      "text/plain": [
       "                 reviews category or product name updated-by   \\\n",
       "0  நல்ல மருந்து மனதிற்கு        நகைச்சுவை நானூறு        priya   \n",
       "1      சிறப்பான அறிமுகம்        நகைச்சுவை நானூறு        priya   \n",
       "2               அற்புதம்        நகைச்சுவை நானூறு        priya   \n",
       "3               அற்புதம்        நகைச்சுவை நானூறு        priya   \n",
       "4                  நன்று        நகைச்சுவை நானூறு        priya   \n",
       "\n",
       "                                      reference link sentiment  \n",
       "0  https://tamil.pratilipi.com/story/%E0%AE%A8%E0...  positive  \n",
       "1  https://tamil.pratilipi.com/story/%E0%AE%A8%E0...  positive  \n",
       "2  https://tamil.pratilipi.com/story/%E0%AE%A8%E0...  positive  \n",
       "3  https://tamil.pratilipi.com/story/%E0%AE%A8%E0...  positive  \n",
       "4  https://tamil.pratilipi.com/story/%E0%AE%A8%E0...  positive  "
      ]
     },
     "execution_count": 3,
     "metadata": {},
     "output_type": "execute_result"
    }
   ],
   "source": [
    "import pandas as pd\n",
    "\n",
    "filepath = \"Sentiment-analysis - Sheet1.csv\"\n",
    "\n",
    "df = pd.read_csv(filepath)\n",
    "df.head()"
   ]
  },
  {
   "cell_type": "code",
   "execution_count": 10,
   "id": "aa6f0545-a090-41a3-bc7c-eecdc07a8ee7",
   "metadata": {},
   "outputs": [
    {
     "data": {
      "text/plain": [
       "(344, 2)"
      ]
     },
     "execution_count": 10,
     "metadata": {},
     "output_type": "execute_result"
    }
   ],
   "source": [
    "df.shape"
   ]
  },
  {
   "cell_type": "code",
   "execution_count": 11,
   "id": "38e66912-e8a2-4306-afed-8776b5482ab5",
   "metadata": {},
   "outputs": [],
   "source": [
    "from io import StringIO\n",
    "\n",
    "col = ['reviews', 'sentiment']\n",
    "df = df[col]"
   ]
  },
  {
   "cell_type": "code",
   "execution_count": 12,
   "id": "a8948778-6321-4b85-8b65-2d55030ce907",
   "metadata": {},
   "outputs": [
    {
     "data": {
      "text/html": [
       "<div>\n",
       "<style scoped>\n",
       "    .dataframe tbody tr th:only-of-type {\n",
       "        vertical-align: middle;\n",
       "    }\n",
       "\n",
       "    .dataframe tbody tr th {\n",
       "        vertical-align: top;\n",
       "    }\n",
       "\n",
       "    .dataframe thead th {\n",
       "        text-align: right;\n",
       "    }\n",
       "</style>\n",
       "<table border=\"1\" class=\"dataframe\">\n",
       "  <thead>\n",
       "    <tr style=\"text-align: right;\">\n",
       "      <th></th>\n",
       "      <th>reviews</th>\n",
       "      <th>sentiment</th>\n",
       "    </tr>\n",
       "  </thead>\n",
       "  <tbody>\n",
       "    <tr>\n",
       "      <th>0</th>\n",
       "      <td>நல்ல மருந்து மனதிற்கு</td>\n",
       "      <td>positive</td>\n",
       "    </tr>\n",
       "    <tr>\n",
       "      <th>1</th>\n",
       "      <td>சிறப்பான அறிமுகம்</td>\n",
       "      <td>positive</td>\n",
       "    </tr>\n",
       "    <tr>\n",
       "      <th>2</th>\n",
       "      <td>அற்புதம்</td>\n",
       "      <td>positive</td>\n",
       "    </tr>\n",
       "    <tr>\n",
       "      <th>3</th>\n",
       "      <td>அற்புதம்</td>\n",
       "      <td>positive</td>\n",
       "    </tr>\n",
       "    <tr>\n",
       "      <th>4</th>\n",
       "      <td>நன்று</td>\n",
       "      <td>positive</td>\n",
       "    </tr>\n",
       "  </tbody>\n",
       "</table>\n",
       "</div>"
      ],
      "text/plain": [
       "                 reviews sentiment\n",
       "0  நல்ல மருந்து மனதிற்கு  positive\n",
       "1      சிறப்பான அறிமுகம்  positive\n",
       "2               அற்புதம்  positive\n",
       "3               அற்புதம்  positive\n",
       "4                  நன்று  positive"
      ]
     },
     "execution_count": 12,
     "metadata": {},
     "output_type": "execute_result"
    }
   ],
   "source": [
    "df.head()"
   ]
  },
  {
   "cell_type": "code",
   "execution_count": 13,
   "id": "fb72382e-2524-4b95-8e97-da795da519ec",
   "metadata": {},
   "outputs": [
    {
     "data": {
      "text/html": [
       "<div>\n",
       "<style scoped>\n",
       "    .dataframe tbody tr th:only-of-type {\n",
       "        vertical-align: middle;\n",
       "    }\n",
       "\n",
       "    .dataframe tbody tr th {\n",
       "        vertical-align: top;\n",
       "    }\n",
       "\n",
       "    .dataframe thead th {\n",
       "        text-align: right;\n",
       "    }\n",
       "</style>\n",
       "<table border=\"1\" class=\"dataframe\">\n",
       "  <thead>\n",
       "    <tr style=\"text-align: right;\">\n",
       "      <th></th>\n",
       "      <th>reviews</th>\n",
       "      <th>sentiment</th>\n",
       "    </tr>\n",
       "  </thead>\n",
       "  <tbody>\n",
       "    <tr>\n",
       "      <th>0</th>\n",
       "      <td>நல்ல மருந்து மனதிற்கு</td>\n",
       "      <td>positive</td>\n",
       "    </tr>\n",
       "    <tr>\n",
       "      <th>1</th>\n",
       "      <td>சிறப்பான அறிமுகம்</td>\n",
       "      <td>positive</td>\n",
       "    </tr>\n",
       "    <tr>\n",
       "      <th>2</th>\n",
       "      <td>அற்புதம்</td>\n",
       "      <td>positive</td>\n",
       "    </tr>\n",
       "    <tr>\n",
       "      <th>3</th>\n",
       "      <td>அற்புதம்</td>\n",
       "      <td>positive</td>\n",
       "    </tr>\n",
       "    <tr>\n",
       "      <th>4</th>\n",
       "      <td>நன்று</td>\n",
       "      <td>positive</td>\n",
       "    </tr>\n",
       "  </tbody>\n",
       "</table>\n",
       "</div>"
      ],
      "text/plain": [
       "                 reviews sentiment\n",
       "0  நல்ல மருந்து மனதிற்கு  positive\n",
       "1      சிறப்பான அறிமுகம்  positive\n",
       "2               அற்புதம்  positive\n",
       "3               அற்புதம்  positive\n",
       "4                  நன்று  positive"
      ]
     },
     "execution_count": 13,
     "metadata": {},
     "output_type": "execute_result"
    }
   ],
   "source": [
    "df = df[pd.notnull(df['reviews'])]\n",
    "df = df[pd.notnull(df['sentiment'])]\n",
    "df.head()"
   ]
  },
  {
   "cell_type": "code",
   "execution_count": 14,
   "id": "bcb7ac7a-861c-4531-9b5d-652a20f8d902",
   "metadata": {},
   "outputs": [
    {
     "name": "stderr",
     "output_type": "stream",
     "text": [
      "/home/sanjju/miniconda3/envs/ml38/lib/python3.8/site-packages/seaborn/_decorators.py:36: FutureWarning: Pass the following variable as a keyword arg: x. From version 0.12, the only valid positional argument will be `data`, and passing other arguments without an explicit keyword will result in an error or misinterpretation.\n",
      "  warnings.warn(\n"
     ]
    },
    {
     "data": {
      "image/png": "[encoded data removed]",
      "text/plain": [
       "<Figure size 432x288 with 1 Axes>"
      ]
     },
     "metadata": {
      "needs_background": "light"
     },
     "output_type": "display_data"
    }
   ],
   "source": [
    "import seaborn as sns\n",
    "import matplotlib.pyplot as plt\n",
    "sns.countplot(df['sentiment'],label=\"Count\")\n",
    "plt.show()"
   ]
  },
  {
   "cell_type": "code",
   "execution_count": 18,
   "id": "d19ef86b-74f0-4e73-9a16-bffaf47360c4",
   "metadata": {},
   "outputs": [],
   "source": [
    "# import pylab as pl\n",
    "# df.('sentiment').hist(bins=30, figsize=(9,9))\n",
    "# pl.suptitle(\"Histogram for each numeric input variable\")\n",
    "# plt.savefig('fruits_hist')\n",
    "# plt.show()"
   ]
  },
  {
   "cell_type": "code",
   "execution_count": 19,
   "id": "138df104-75d9-4bb9-9ad6-1b88f9a3cc56",
   "metadata": {},
   "outputs": [
    {
     "data": {
      "text/plain": [
       "(344, 2)"
      ]
     },
     "execution_count": 19,
     "metadata": {},
     "output_type": "execute_result"
    }
   ],
   "source": [
    "df.shape"
   ]
  },
  {
   "cell_type": "code",
   "execution_count": 20,
   "id": "99ae3c79-2b38-4bbd-9b41-58a2ab28804b",
   "metadata": {},
   "outputs": [
    {
     "data": {
      "text/plain": [
       "reviews      False\n",
       "sentiment    False\n",
       "dtype: bool"
      ]
     },
     "execution_count": 20,
     "metadata": {},
     "output_type": "execute_result"
    }
   ],
   "source": [
    "\n",
    "df.isnull().any()"
   ]
  },
  {
   "cell_type": "code",
   "execution_count": 21,
   "id": "3d93481f-d979-48fc-aa52-0e1827948029",
   "metadata": {},
   "outputs": [
    {
     "data": {
      "text/plain": [
       "(344, 321)"
      ]
     },
     "execution_count": 21,
     "metadata": {},
     "output_type": "execute_result"
    }
   ],
   "source": [
    "from sklearn.feature_extraction.text import TfidfVectorizer\n",
    "tfidf = TfidfVectorizer(sublinear_tf=True, min_df=5, norm='l2', ngram_range=(1, 2))\n",
    "features = tfidf.fit_transform(df.reviews).toarray()\n",
    "labels = df.sentiment\n",
    "features.shape"
   ]
  },
  {
   "cell_type": "code",
   "execution_count": 22,
   "id": "0cb1d054-0677-4589-8d6e-2344d8382da5",
   "metadata": {},
   "outputs": [],
   "source": [
    "from sklearn.model_selection import train_test_split\n",
    "from sklearn.feature_extraction.text import CountVectorizer\n",
    "from sklearn.feature_extraction.text import TfidfTransformer\n",
    "from sklearn.naive_bayes import MultinomialNB\n",
    "\n",
    "X_train, X_test, y_train, y_test = train_test_split(df['reviews'], df['sentiment'], random_state = 0)\n",
    "count_vect = CountVectorizer()\n",
    "X_train_counts = count_vect.fit_transform(X_train)\n",
    "tfidf_transformer = TfidfTransformer()\n",
    "X_train_tfidf = tfidf_transformer.fit_transform(X_train_counts)\n",
    "clf = MultinomialNB().fit(X_train_tfidf, y_train)"
   ]
  },
  {
   "cell_type": "code",
   "execution_count": 23,
   "id": "a35d157b-8cbc-4fb2-bf8b-b6e2f2e8c72a",
   "metadata": {},
   "outputs": [
    {
     "data": {
      "text/plain": [
       "141    negative\n",
       "6      positive\n",
       "60     positive\n",
       "249    positive\n",
       "54     positive\n",
       "         ...   \n",
       "173    positive\n",
       "12     positive\n",
       "106    positive\n",
       "140    positive\n",
       "278    negative\n",
       "Name: sentiment, Length: 86, dtype: object"
      ]
     },
     "execution_count": 23,
     "metadata": {},
     "output_type": "execute_result"
    }
   ],
   "source": [
    "y_test"
   ]
  },
  {
   "cell_type": "code",
   "execution_count": 24,
   "id": "364c8706-a862-4c4e-8575-737eb655fe55",
   "metadata": {},
   "outputs": [],
   "source": [
    "pred = clf.predict(count_vect.transform(X_test))"
   ]
  },
  {
   "cell_type": "code",
   "execution_count": 25,
   "id": "96c86e36-c338-4aa2-98a6-036369f7f692",
   "metadata": {},
   "outputs": [
    {
     "data": {
      "text/plain": [
       "array([[ 1,  0,  9],\n",
       "       [ 0,  0,  3],\n",
       "       [ 0,  0, 73]])"
      ]
     },
     "execution_count": 25,
     "metadata": {},
     "output_type": "execute_result"
    }
   ],
   "source": [
    "from sklearn.metrics import confusion_matrix\n",
    "confusion_matrix(y_test, pred)"
   ]
  },
  {
   "cell_type": "code",
   "execution_count": 26,
   "id": "a26f3d3a-fda2-40a5-8eee-5175c56cda20",
   "metadata": {},
   "outputs": [
    {
     "name": "stdout",
     "output_type": "stream",
     "text": [
      "Accuracy score:  0.8604651162790697\n"
     ]
    }
   ],
   "source": [
    "from sklearn.metrics import accuracy_score\n",
    "print(\"Accuracy score: \", accuracy_score(y_test, pred))"
   ]
  },
  {
   "cell_type": "code",
   "execution_count": 27,
   "id": "c9047d0e-2655-4ec6-bfcd-fa41a2b112d1",
   "metadata": {},
   "outputs": [
    {
     "name": "stdout",
     "output_type": "stream",
     "text": [
      "              precision    recall  f1-score   support\n",
      "\n",
      "    negative       1.00      0.10      0.18        10\n",
      "     neutral       0.00      0.00      0.00         3\n",
      "    positive       0.86      1.00      0.92        73\n",
      "\n",
      "    accuracy                           0.86        86\n",
      "   macro avg       0.62      0.37      0.37        86\n",
      "weighted avg       0.85      0.86      0.81        86\n",
      "\n"
     ]
    },
    {
     "name": "stderr",
     "output_type": "stream",
     "text": [
      "/home/sanjju/miniconda3/envs/ml38/lib/python3.8/site-packages/sklearn/metrics/_classification.py:1248: UndefinedMetricWarning: Precision and F-score are ill-defined and being set to 0.0 in labels with no predicted samples. Use `zero_division` parameter to control this behavior.\n",
      "  _warn_prf(average, modifier, msg_start, len(result))\n",
      "/home/sanjju/miniconda3/envs/ml38/lib/python3.8/site-packages/sklearn/metrics/_classification.py:1248: UndefinedMetricWarning: Precision and F-score are ill-defined and being set to 0.0 in labels with no predicted samples. Use `zero_division` parameter to control this behavior.\n",
      "  _warn_prf(average, modifier, msg_start, len(result))\n",
      "/home/sanjju/miniconda3/envs/ml38/lib/python3.8/site-packages/sklearn/metrics/_classification.py:1248: UndefinedMetricWarning: Precision and F-score are ill-defined and being set to 0.0 in labels with no predicted samples. Use `zero_division` parameter to control this behavior.\n",
      "  _warn_prf(average, modifier, msg_start, len(result))\n"
     ]
    }
   ],
   "source": [
    "from sklearn.metrics import classification_report\n",
    "\n",
    "print(classification_report(y_test, pred))"
   ]
  },
  {
   "cell_type": "code",
   "execution_count": 28,
   "id": "29b8caea-1b74-4a8e-af75-8b316cb2e45e",
   "metadata": {},
   "outputs": [
    {
     "name": "stdout",
     "output_type": "stream",
     "text": [
      "நல்ல மருந்து மனதிற்கு\n",
      "\n",
      "சிறப்பான அறிமுகம்\n",
      "\n",
      "அற்புதம்\n",
      "\n",
      "அற்புதம்\n",
      "\n",
      "நன்று\n",
      "\n",
      "கதை முழுமையானதாக இல்லை என்றே தோன்றுகிறது\n",
      "\n",
      "நா.முத்துக்குமார் அவர்கள் வெளியிட்ட முதல் கவிதை புத்தகம். அவரை அறிமுகம் செய்த 'தூர்' என்ற கவிதையும் இப்புத்தகத்தில் தான் உள்ளது. மிகச் சிறிய புத்தகம் தான். எளிய நடையிலேயே கவிதைகள் எழுதப்பட்டுள்ளன.\n",
      "\n",
      "மூட்டை புத்தகம் கிடைத்தால் என்னையே விற்றாலும் விற்றுவிடுவார் என் அப்பா,.. மனதை தொட்ட வரிகள்..\n",
      "\n",
      "நா. முத்துக்குமார் அவர்களின் மூன்றாவது புத்தகம் நான் படிப்பதில். சில வரிகளில் ஓராயிரம் உணர்வுகளை தரக்கூடியவர் இவர். ஒரு கிராமத்து கிரிக்கெட், பள்ளி, டென்த் ஏ காயத்ரி, தூர் இவை அனைத்தும் பிடித்தமான கவிதைகள். ஒவ்வொரு கவிதையின் முடிவிலும் ஒரு இனம் புரியாத நெகிழ்வு ஏற்படுத்த முடியும் என்றால் அது இவரால் மட்டுமே சாத்தியம். பிடித்த வரிகள்  யாரும் மெனக்கெடாமலே வருடந்தோறும் உருவாகிறார்கள் சில அறிவாளிகளும் முட்டாள்களும் !  - பள்ளி  இந்த புத்தகத்தில் கண்ணை மூடிக்கொண்டு எந்தப் பக்கத்தை பிரித்தாலும் நல்ல கவிதைகள் வரும் பட்டாம்பூச்சி விற்பவன் - பல வர்ணங்களில்\n",
      "\n",
      "நா. முத்துக்குமார் நமது தலைமுறையின் புது கவிதை ஆசிரியர்களில் தலைசிறந்த சிலரில் ஒருவர். எளிய நடையினுள் பரந்த கருத்துக்களை நம்மைச் சார்ந்து, நம்மால் சம்பந்தம் படுத்திக்கொள்ளமுடியும்படி சிறப்பாக எழுதியுள்ளார். புது கவிதையிற்கேற்ப, கவிதையின் வாளில் குத்துவதும், கவிதையின் பொருளை எஸ்களேட் செய்வதும் இத்தொகுப்பில் அருமையாக அமைந்துள்ளன. ஒரு கிளாஸ் விஸ்கியுடன் இரவு ஓய்வு கொள்ளச் சரியான புத்தகம் இது.\n",
      "\n"
     ]
    }
   ],
   "source": [
    "\n",
    "content_list = df['reviews']\n",
    "\n",
    "for content in content_list[:10]:\n",
    "    print(content)\n",
    "    \n",
    "    print()"
   ]
  },
  {
   "cell_type": "code",
   "execution_count": 29,
   "id": "15084399-4a02-4c71-a3dd-d791c1be3dba",
   "metadata": {},
   "outputs": [
    {
     "name": "stdout",
     "output_type": "stream",
     "text": [
      "['negative']\n"
     ]
    }
   ],
   "source": [
    "print(clf.predict(count_vect.transform([\"இல்லை\"])))"
   ]
  },
  {
   "cell_type": "code",
   "execution_count": null,
   "id": "b83019e4-1e6c-4d7b-83e4-553d9320804e",
   "metadata": {},
   "outputs": [],
   "source": []
  },
  {
   "cell_type": "code",
   "execution_count": null,
   "id": "aff4431f-36d1-42a4-92dd-96b0a16cdc24",
   "metadata": {},
   "outputs": [],
   "source": []
  }
 ],
 "metadata": {
  "kernelspec": {
   "display_name": "Python 3 (ipykernel)",
   "language": "python",
   "name": "python3"
  },
  "language_info": {
   "codemirror_mode": {
    "name": "ipython",
    "version": 3
   },
   "file_extension": ".py",
   "mimetype": "text/x-python",
   "name": "python",
   "nbconvert_exporter": "python",
   "pygments_lexer": "ipython3",
   "version": "3.8.11"
  }
 },
 "nbformat": 4,
 "nbformat_minor": 5
}
